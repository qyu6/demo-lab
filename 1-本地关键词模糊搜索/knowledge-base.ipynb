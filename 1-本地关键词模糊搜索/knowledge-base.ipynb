{
 "cells": [
  {
   "cell_type": "code",
   "execution_count": null,
   "metadata": {},
   "outputs": [],
   "source": [
    "from os.path import exists \n",
    "import openpyx \n",
    "import os\n",
    "import pandas as pd \n",
    "import re\n",
    "from collections import Counter\n",
    "pd.set_option('display.max_colwidth', None)\n",
    "result ='searchResult.csv if exists(result):\n",
    "os.remove(result)\n",
    "# create file. add header\n",
    "wbResult=openpyxl.Workbook() wsResult=wbResult.worksheets[0] wsResult.append(['result'])\n",
    "# read file.\n",
    "wb=openpyxl.load workbook('./data/SourceDB.xlsx') input excel=./data/SourceDB.xlsx data =pd.read excel(input excel) ws=wb.worksheets[0]\n",
    "# fill empty cell with *\n",
    "for k in range(1,ws.max_column+1):\t# column scan\t\n",
    "for i in range(1,ws.max_row+1): # row scan\n",
    "if ws.cell(row=i, column=k).value is None:\n",
    "ws.cell(i,k,\t***** ')\t\n",
    "input word =input(\"<T.Knowledge.Database>:\").strip().lower() print(type(input word))\n",
    "input word_exist = re.sub(u”([^\\u4e00-\\u9fa5\\u0030-\\u0039\\u0041-\\u005a\\u0061-\\u007a])”,\"”,input_word) input_word =input_word.split()"
   ]
  }
 ],
 "metadata": {
  "kernelspec": {
   "display_name": "Python 3.10.5 ('venv1': venv)",
   "language": "python",
   "name": "python3"
  },
  "language_info": {
   "name": "python",
   "version": "3.10.5"
  },
  "orig_nbformat": 4,
  "vscode": {
   "interpreter": {
    "hash": "8d9415771675c6ccbfac2661a0b536bfb50c7997546a36bc863ea0270ad960c3"
   }
  }
 },
 "nbformat": 4,
 "nbformat_minor": 2
}
